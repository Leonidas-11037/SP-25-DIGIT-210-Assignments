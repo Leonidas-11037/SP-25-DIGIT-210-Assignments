{
 "cells": [
  {
   "cell_type": "code",
   "execution_count": 1,
   "id": "49f20452-8c0b-43b8-aa06-c7fbded88a6c",
   "metadata": {},
   "outputs": [],
   "source": [
    "# Imports\n",
    "import os\n",
    "import nltk\n",
    "from nltk.corpus import wordnet as wn"
   ]
  },
  {
   "cell_type": "code",
   "execution_count": 2,
   "id": "c9c12940-38c7-4857-b76b-ba7a941a5845",
   "metadata": {},
   "outputs": [
    {
     "data": {
      "text/plain": [
       "[Synset('clear.n.01'),\n",
       " Synset('open.n.01'),\n",
       " Synset('unclutter.v.01'),\n",
       " Synset('clear.v.02'),\n",
       " Synset('clear_up.v.04'),\n",
       " Synset('authorize.v.01'),\n",
       " Synset('clear.v.05'),\n",
       " Synset('pass.v.09'),\n",
       " Synset('clear.v.07'),\n",
       " Synset('clear.v.08'),\n",
       " Synset('clear.v.09'),\n",
       " Synset('clear.v.10'),\n",
       " Synset('clear.v.11'),\n",
       " Synset('clear.v.12'),\n",
       " Synset('net.v.02'),\n",
       " Synset('net.v.01'),\n",
       " Synset('gain.v.08'),\n",
       " Synset('clear.v.16'),\n",
       " Synset('clear.v.17'),\n",
       " Synset('acquit.v.01'),\n",
       " Synset('clear.v.19'),\n",
       " Synset('clear.v.20'),\n",
       " Synset('clear.v.21'),\n",
       " Synset('clear.v.22'),\n",
       " Synset('clear.v.23'),\n",
       " Synset('clear.v.24'),\n",
       " Synset('clear.a.01'),\n",
       " Synset('clear.s.02'),\n",
       " Synset('clear.s.03'),\n",
       " Synset('clear.a.04'),\n",
       " Synset('clear.s.05'),\n",
       " Synset('clear.s.06'),\n",
       " Synset('clean.s.03'),\n",
       " Synset('clear.s.08'),\n",
       " Synset('clear.s.09'),\n",
       " Synset('well-defined.a.02'),\n",
       " Synset('clear.a.11'),\n",
       " Synset('clean.s.02'),\n",
       " Synset('clear.s.13'),\n",
       " Synset('clear.s.14'),\n",
       " Synset('clear.s.15'),\n",
       " Synset('absolved.s.01'),\n",
       " Synset('clear.s.17'),\n",
       " Synset('clear.r.01'),\n",
       " Synset('clearly.r.04')]"
      ]
     },
     "execution_count": 2,
     "metadata": {},
     "output_type": "execute_result"
    }
   ],
   "source": [
    "# SMOKE TEST: Explore Wordnet for specific words.\n",
    "wn.synsets('clear')"
   ]
  },
  {
   "cell_type": "code",
   "execution_count": 3,
   "id": "1e91fb6c-e90f-4e2e-9bcb-a0eb4b47bec5",
   "metadata": {},
   "outputs": [
    {
     "name": "stdout",
     "output_type": "stream",
     "text": [
      "C:\\Users\\LEOHK\\Documents\\GitHub-Home\\SP-25-DIGIT-210-Assignments\\python-nlp\\Ex4\n"
     ]
    }
   ],
   "source": [
    "cwd = os.getcwd()\n",
    "print(cwd)"
   ]
  },
  {
   "cell_type": "code",
   "execution_count": 4,
   "id": "50017e8a-c080-4eb1-9e63-50cb2402a75b",
   "metadata": {},
   "outputs": [
    {
     "data": {
      "text/plain": [
       "['.ipynb_checkpoints', 'Untitled.ipynb', 'vol-4.txt', 'vol-5.txt', 'vol-6.txt']"
      ]
     },
     "execution_count": 4,
     "metadata": {},
     "output_type": "execute_result"
    }
   ],
   "source": [
    "os.listdir(cwd)"
   ]
  },
  {
   "cell_type": "code",
   "execution_count": 6,
   "id": "1e50423d-18fd-4be2-a9b0-01bde75110ac",
   "metadata": {},
   "outputs": [
    {
     "data": {
      "text/plain": [
       "['.ipynb_checkpoints', 'Untitled.ipynb', 'vol-4.txt', 'vol-5.txt', 'vol-6.txt']"
      ]
     },
     "execution_count": 6,
     "metadata": {},
     "output_type": "execute_result"
    }
   ],
   "source": [
    "coll = os.path.join(cwd)\n",
    "os.listdir(coll)"
   ]
  },
  {
   "cell_type": "code",
   "execution_count": 7,
   "id": "95fff058-a9d3-47bc-8513-4ac13d8b905f",
   "metadata": {},
   "outputs": [
    {
     "name": "stdout",
     "output_type": "stream",
     "text": [
      "C:\\Users\\LEOHK\\Documents\\GitHub-Home\\SP-25-DIGIT-210-Assignments\\python-nlp\\Ex4/vol-4.txt\n",
      "C:\\Users\\LEOHK\\Documents\\GitHub-Home\\SP-25-DIGIT-210-Assignments\\python-nlp\\Ex4/vol-5.txt\n",
      "C:\\Users\\LEOHK\\Documents\\GitHub-Home\\SP-25-DIGIT-210-Assignments\\python-nlp\\Ex4/vol-6.txt\n"
     ]
    }
   ],
   "source": [
    "for file in os.listdir(coll):\n",
    "   if file.endswith(\".txt\"):\n",
    "        filepath = f\"{coll}/{file}\"\n",
    "        print(filepath)"
   ]
  },
  {
   "cell_type": "code",
   "execution_count": 9,
   "id": "876afce4-7456-4241-981d-6c28937cce70",
   "metadata": {},
   "outputs": [
    {
     "ename": "OSError",
     "evalue": "No such file or directory: 'C:\\\\Users\\\\LEOHK\\\\Documents\\\\GitHub-Home\\\\SP-25-DIGIT-210-Assignments\\\\python-nlp\\\\Ex4\\\\Ex4'",
     "output_type": "error",
     "traceback": [
      "\u001b[31m---------------------------------------------------------------------------\u001b[39m",
      "\u001b[31mOSError\u001b[39m                                   Traceback (most recent call last)",
      "\u001b[36mCell\u001b[39m\u001b[36m \u001b[39m\u001b[32mIn[9]\u001b[39m\u001b[32m, line 3\u001b[39m\n\u001b[32m      1\u001b[39m \u001b[38;5;28;01mfrom\u001b[39;00m\u001b[38;5;250m \u001b[39m\u001b[34;01mnltk\u001b[39;00m\u001b[34;01m.\u001b[39;00m\u001b[34;01mcorpus\u001b[39;00m\u001b[38;5;250m \u001b[39m\u001b[38;5;28;01mimport\u001b[39;00m PlaintextCorpusReader\n\u001b[32m      2\u001b[39m corpus_root = \u001b[33m'\u001b[39m\u001b[33mEx4\u001b[39m\u001b[33m'\u001b[39m\n\u001b[32m----> \u001b[39m\u001b[32m3\u001b[39m corpus = \u001b[43mPlaintextCorpusReader\u001b[49m\u001b[43m(\u001b[49m\u001b[43mcorpus_root\u001b[49m\u001b[43m,\u001b[49m\u001b[43m \u001b[49m\u001b[33;43m'\u001b[39;49m\u001b[33;43m.*\u001b[39;49m\u001b[33;43m'\u001b[39;49m\u001b[43m)\u001b[49m\n\u001b[32m      4\u001b[39m corpus.fileids()\n\u001b[32m      5\u001b[39m \u001b[38;5;66;03m# Check on one file in the collection\u001b[39;00m\n\u001b[32m      6\u001b[39m \u001b[38;5;66;03m# corpus.words('breakfast.txt')\u001b[39;00m\n",
      "\u001b[36mFile \u001b[39m\u001b[32m~\\Documents\\GitHub-Home\\SP-25-DIGIT-210-Assignments\\python-nlp\\.venv\\Lib\\site-packages\\nltk\\corpus\\reader\\plaintext.py:62\u001b[39m, in \u001b[36mPlaintextCorpusReader.__init__\u001b[39m\u001b[34m(self, root, fileids, word_tokenizer, sent_tokenizer, para_block_reader, encoding)\u001b[39m\n\u001b[32m     37\u001b[39m \u001b[38;5;28;01mdef\u001b[39;00m\u001b[38;5;250m \u001b[39m\u001b[34m__init__\u001b[39m(\n\u001b[32m     38\u001b[39m     \u001b[38;5;28mself\u001b[39m,\n\u001b[32m     39\u001b[39m     root,\n\u001b[32m   (...)\u001b[39m\u001b[32m     44\u001b[39m     encoding=\u001b[33m\"\u001b[39m\u001b[33mutf8\u001b[39m\u001b[33m\"\u001b[39m,\n\u001b[32m     45\u001b[39m ):\n\u001b[32m     46\u001b[39m \u001b[38;5;250m    \u001b[39m\u001b[33mr\u001b[39m\u001b[33;03m\"\"\"\u001b[39;00m\n\u001b[32m     47\u001b[39m \u001b[33;03m    Construct a new plaintext corpus reader for a set of documents\u001b[39;00m\n\u001b[32m     48\u001b[39m \u001b[33;03m    located at the given root directory.  Example usage:\u001b[39;00m\n\u001b[32m   (...)\u001b[39m\u001b[32m     60\u001b[39m \u001b[33;03m        corpus into paragraph blocks.\u001b[39;00m\n\u001b[32m     61\u001b[39m \u001b[33;03m    \"\"\"\u001b[39;00m\n\u001b[32m---> \u001b[39m\u001b[32m62\u001b[39m     \u001b[43mCorpusReader\u001b[49m\u001b[43m.\u001b[49m\u001b[34;43m__init__\u001b[39;49m\u001b[43m(\u001b[49m\u001b[38;5;28;43mself\u001b[39;49m\u001b[43m,\u001b[49m\u001b[43m \u001b[49m\u001b[43mroot\u001b[49m\u001b[43m,\u001b[49m\u001b[43m \u001b[49m\u001b[43mfileids\u001b[49m\u001b[43m,\u001b[49m\u001b[43m \u001b[49m\u001b[43mencoding\u001b[49m\u001b[43m)\u001b[49m\n\u001b[32m     63\u001b[39m     \u001b[38;5;28mself\u001b[39m._word_tokenizer = word_tokenizer\n\u001b[32m     64\u001b[39m     \u001b[38;5;28mself\u001b[39m._sent_tokenizer = sent_tokenizer\n",
      "\u001b[36mFile \u001b[39m\u001b[32m~\\Documents\\GitHub-Home\\SP-25-DIGIT-210-Assignments\\python-nlp\\.venv\\Lib\\site-packages\\nltk\\corpus\\reader\\api.py:80\u001b[39m, in \u001b[36mCorpusReader.__init__\u001b[39m\u001b[34m(self, root, fileids, encoding, tagset)\u001b[39m\n\u001b[32m     78\u001b[39m         root = ZipFilePathPointer(zipfile, zipentry)\n\u001b[32m     79\u001b[39m     \u001b[38;5;28;01melse\u001b[39;00m:\n\u001b[32m---> \u001b[39m\u001b[32m80\u001b[39m         root = \u001b[43mFileSystemPathPointer\u001b[49m\u001b[43m(\u001b[49m\u001b[43mroot\u001b[49m\u001b[43m)\u001b[49m\n\u001b[32m     81\u001b[39m \u001b[38;5;28;01melif\u001b[39;00m \u001b[38;5;129;01mnot\u001b[39;00m \u001b[38;5;28misinstance\u001b[39m(root, PathPointer):\n\u001b[32m     82\u001b[39m     \u001b[38;5;28;01mraise\u001b[39;00m \u001b[38;5;167;01mTypeError\u001b[39;00m(\u001b[33m\"\u001b[39m\u001b[33mCorpusReader: expected a string or a PathPointer\u001b[39m\u001b[33m\"\u001b[39m)\n",
      "\u001b[36mFile \u001b[39m\u001b[32m~\\Documents\\GitHub-Home\\SP-25-DIGIT-210-Assignments\\python-nlp\\.venv\\Lib\\site-packages\\nltk\\data.py:311\u001b[39m, in \u001b[36mFileSystemPathPointer.__init__\u001b[39m\u001b[34m(self, _path)\u001b[39m\n\u001b[32m    309\u001b[39m _path = os.path.abspath(_path)\n\u001b[32m    310\u001b[39m \u001b[38;5;28;01mif\u001b[39;00m \u001b[38;5;129;01mnot\u001b[39;00m os.path.exists(_path):\n\u001b[32m--> \u001b[39m\u001b[32m311\u001b[39m     \u001b[38;5;28;01mraise\u001b[39;00m \u001b[38;5;167;01mOSError\u001b[39;00m(\u001b[33m\"\u001b[39m\u001b[33mNo such file or directory: \u001b[39m\u001b[38;5;132;01m%r\u001b[39;00m\u001b[33m\"\u001b[39m % _path)\n\u001b[32m    312\u001b[39m \u001b[38;5;28mself\u001b[39m._path = _path\n",
      "\u001b[31mOSError\u001b[39m: No such file or directory: 'C:\\\\Users\\\\LEOHK\\\\Documents\\\\GitHub-Home\\\\SP-25-DIGIT-210-Assignments\\\\python-nlp\\\\Ex4\\\\Ex4'"
     ]
    }
   ],
   "source": [
    "from nltk.corpus import PlaintextCorpusReader\n",
    "corpus_root = 'Ex4'\n",
    "corpus = PlaintextCorpusReader(corpus_root, '.*')\n",
    "corpus.fileids()\n",
    "# Check on one file in the collection\n",
    "# corpus.words('breakfast.txt')"
   ]
  },
  {
   "cell_type": "code",
   "execution_count": null,
   "id": "a36e598c-9e81-4f7d-b5bb-bf6aec2a0ed0",
   "metadata": {},
   "outputs": [],
   "source": []
  }
 ],
 "metadata": {
  "kernelspec": {
   "display_name": "Python 3 (ipykernel)",
   "language": "python",
   "name": "python3"
  },
  "language_info": {
   "codemirror_mode": {
    "name": "ipython",
    "version": 3
   },
   "file_extension": ".py",
   "mimetype": "text/x-python",
   "name": "python",
   "nbconvert_exporter": "python",
   "pygments_lexer": "ipython3",
   "version": "3.12.0"
  }
 },
 "nbformat": 4,
 "nbformat_minor": 5
}
